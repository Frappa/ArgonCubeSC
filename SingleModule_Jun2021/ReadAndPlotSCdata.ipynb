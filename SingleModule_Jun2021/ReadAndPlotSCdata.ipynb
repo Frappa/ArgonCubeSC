{
 "cells": [
  {
   "cell_type": "code",
   "execution_count": 1,
   "id": "29ca494a-11fc-4757-b980-b16f520063bd",
   "metadata": {},
   "outputs": [],
   "source": [
    "import numpy as np\n",
    "import scipy as sp\n",
    "import pandas as pd\n",
    "import matplotlib.pyplot as plt\n",
    "\n",
    "import datetime\n",
    "import pytz\n",
    "import tzlocal\n",
    "import h5py\n",
    "\n",
    "import seaborn as sns\n",
    "\n",
    "%matplotlib inline"
   ]
  },
  {
   "cell_type": "code",
   "execution_count": 2,
   "id": "cc98bad2-6648-4b99-8d8d-a0be18c3a14c",
   "metadata": {},
   "outputs": [],
   "source": [
    "PLC_df = pd.read_hdf('SC_data_test.h5', key='PLC')\n"
   ]
  },
  {
   "cell_type": "code",
   "execution_count": 3,
   "id": "d10a843c-e583-4d12-9149-2da85d74553f",
   "metadata": {},
   "outputs": [],
   "source": [
    "PLC_dev_gr = PLC_df.groupby('device')"
   ]
  },
  {
   "cell_type": "code",
   "execution_count": 4,
   "id": "d68b5bbb-85bd-4ee3-955b-d6b4fc9d7095",
   "metadata": {},
   "outputs": [
    {
     "data": {
      "text/html": [
       "<div>\n",
       "<style scoped>\n",
       "    .dataframe tbody tr th:only-of-type {\n",
       "        vertical-align: middle;\n",
       "    }\n",
       "\n",
       "    .dataframe tbody tr th {\n",
       "        vertical-align: top;\n",
       "    }\n",
       "\n",
       "    .dataframe thead th {\n",
       "        text-align: right;\n",
       "    }\n",
       "</style>\n",
       "<table border=\"1\" class=\"dataframe\">\n",
       "  <thead>\n",
       "    <tr style=\"text-align: right;\">\n",
       "      <th></th>\n",
       "      <th>Series size</th>\n",
       "    </tr>\n",
       "    <tr>\n",
       "      <th>device</th>\n",
       "      <th></th>\n",
       "    </tr>\n",
       "  </thead>\n",
       "  <tbody>\n",
       "    <tr>\n",
       "      <th>DPM1</th>\n",
       "      <td>698753</td>\n",
       "    </tr>\n",
       "    <tr>\n",
       "      <th>FT1_Flow</th>\n",
       "      <td>698753</td>\n",
       "    </tr>\n",
       "    <tr>\n",
       "      <th>GFM1_gN2</th>\n",
       "      <td>698753</td>\n",
       "    </tr>\n",
       "    <tr>\n",
       "      <th>GFM2_gAr</th>\n",
       "      <td>698753</td>\n",
       "    </tr>\n",
       "    <tr>\n",
       "      <th>GFM3_gH2</th>\n",
       "      <td>698753</td>\n",
       "    </tr>\n",
       "    <tr>\n",
       "      <th>LAr_Level</th>\n",
       "      <td>698753</td>\n",
       "    </tr>\n",
       "    <tr>\n",
       "      <th>LN2_Level</th>\n",
       "      <td>698753</td>\n",
       "    </tr>\n",
       "    <tr>\n",
       "      <th>LN2_Level_SP</th>\n",
       "      <td>698753</td>\n",
       "    </tr>\n",
       "    <tr>\n",
       "      <th>PT1_LDetek_Carrier</th>\n",
       "      <td>698753</td>\n",
       "    </tr>\n",
       "    <tr>\n",
       "      <th>PT2_LDetek_Sample</th>\n",
       "      <td>698753</td>\n",
       "    </tr>\n",
       "    <tr>\n",
       "      <th>PT3_LDetek_O2Doping</th>\n",
       "      <td>698753</td>\n",
       "    </tr>\n",
       "    <tr>\n",
       "      <th>PT4_Atm</th>\n",
       "      <td>698753</td>\n",
       "    </tr>\n",
       "    <tr>\n",
       "      <th>PT4_Atm_Corr</th>\n",
       "      <td>698753</td>\n",
       "    </tr>\n",
       "    <tr>\n",
       "      <th>PT5_LAr_Cryo</th>\n",
       "      <td>698753</td>\n",
       "    </tr>\n",
       "    <tr>\n",
       "      <th>PT5_LAr_Cryo_Corr</th>\n",
       "      <td>698753</td>\n",
       "    </tr>\n",
       "    <tr>\n",
       "      <th>PT6_PumpOut</th>\n",
       "      <td>698753</td>\n",
       "    </tr>\n",
       "    <tr>\n",
       "      <th>PT6_PumpOut_Corr</th>\n",
       "      <td>698753</td>\n",
       "    </tr>\n",
       "    <tr>\n",
       "      <th>PT6_PumpOut_Gauge</th>\n",
       "      <td>698753</td>\n",
       "    </tr>\n",
       "    <tr>\n",
       "      <th>PT7_N2_Cryo</th>\n",
       "      <td>698753</td>\n",
       "    </tr>\n",
       "    <tr>\n",
       "      <th>PT7_N2_Cryo_Corr</th>\n",
       "      <td>698753</td>\n",
       "    </tr>\n",
       "    <tr>\n",
       "      <th>PT7_N2_Cryo_SP</th>\n",
       "      <td>698753</td>\n",
       "    </tr>\n",
       "    <tr>\n",
       "      <th>PT8_LAr_FilterOut</th>\n",
       "      <td>698753</td>\n",
       "    </tr>\n",
       "    <tr>\n",
       "      <th>PT8_LAr_FilterOut_Corr</th>\n",
       "      <td>698753</td>\n",
       "    </tr>\n",
       "    <tr>\n",
       "      <th>P_LAr_Cryo</th>\n",
       "      <td>698753</td>\n",
       "    </tr>\n",
       "    <tr>\n",
       "      <th>P_LAr_CryoPC3_SP</th>\n",
       "      <td>698753</td>\n",
       "    </tr>\n",
       "    <tr>\n",
       "      <th>P_LAr_Cryo_SP</th>\n",
       "      <td>698753</td>\n",
       "    </tr>\n",
       "    <tr>\n",
       "      <th>P_LAr_FilterOut_Gauge</th>\n",
       "      <td>698753</td>\n",
       "    </tr>\n",
       "    <tr>\n",
       "      <th>Pump_MON</th>\n",
       "      <td>698753</td>\n",
       "    </tr>\n",
       "    <tr>\n",
       "      <th>Pump_SP</th>\n",
       "      <td>698753</td>\n",
       "    </tr>\n",
       "    <tr>\n",
       "      <th>TT1_LAr_Filter_Corr</th>\n",
       "      <td>698754</td>\n",
       "    </tr>\n",
       "    <tr>\n",
       "      <th>TT2_LAr_Filter_Corr</th>\n",
       "      <td>698754</td>\n",
       "    </tr>\n",
       "    <tr>\n",
       "      <th>TT3_LAr_Filter_Corr</th>\n",
       "      <td>698754</td>\n",
       "    </tr>\n",
       "    <tr>\n",
       "      <th>TT4_LAr_Filter_Corr</th>\n",
       "      <td>698754</td>\n",
       "    </tr>\n",
       "    <tr>\n",
       "      <th>TT5_LN2_Cryo</th>\n",
       "      <td>698754</td>\n",
       "    </tr>\n",
       "    <tr>\n",
       "      <th>TT5_LN2_Cryo_SP</th>\n",
       "      <td>698754</td>\n",
       "    </tr>\n",
       "    <tr>\n",
       "      <th>TT6_LN2_Cryo</th>\n",
       "      <td>698753</td>\n",
       "    </tr>\n",
       "    <tr>\n",
       "      <th>V1_LN2_Position</th>\n",
       "      <td>698753</td>\n",
       "    </tr>\n",
       "    <tr>\n",
       "      <th>V2_LN2_Position</th>\n",
       "      <td>698753</td>\n",
       "    </tr>\n",
       "    <tr>\n",
       "      <th>V3_GAr_Position</th>\n",
       "      <td>698753</td>\n",
       "    </tr>\n",
       "  </tbody>\n",
       "</table>\n",
       "</div>"
      ],
      "text/plain": [
       "                        Series size\n",
       "device                             \n",
       "DPM1                         698753\n",
       "FT1_Flow                     698753\n",
       "GFM1_gN2                     698753\n",
       "GFM2_gAr                     698753\n",
       "GFM3_gH2                     698753\n",
       "LAr_Level                    698753\n",
       "LN2_Level                    698753\n",
       "LN2_Level_SP                 698753\n",
       "PT1_LDetek_Carrier           698753\n",
       "PT2_LDetek_Sample            698753\n",
       "PT3_LDetek_O2Doping          698753\n",
       "PT4_Atm                      698753\n",
       "PT4_Atm_Corr                 698753\n",
       "PT5_LAr_Cryo                 698753\n",
       "PT5_LAr_Cryo_Corr            698753\n",
       "PT6_PumpOut                  698753\n",
       "PT6_PumpOut_Corr             698753\n",
       "PT6_PumpOut_Gauge            698753\n",
       "PT7_N2_Cryo                  698753\n",
       "PT7_N2_Cryo_Corr             698753\n",
       "PT7_N2_Cryo_SP               698753\n",
       "PT8_LAr_FilterOut            698753\n",
       "PT8_LAr_FilterOut_Corr       698753\n",
       "P_LAr_Cryo                   698753\n",
       "P_LAr_CryoPC3_SP             698753\n",
       "P_LAr_Cryo_SP                698753\n",
       "P_LAr_FilterOut_Gauge        698753\n",
       "Pump_MON                     698753\n",
       "Pump_SP                      698753\n",
       "TT1_LAr_Filter_Corr          698754\n",
       "TT2_LAr_Filter_Corr          698754\n",
       "TT3_LAr_Filter_Corr          698754\n",
       "TT4_LAr_Filter_Corr          698754\n",
       "TT5_LN2_Cryo                 698754\n",
       "TT5_LN2_Cryo_SP              698754\n",
       "TT6_LN2_Cryo                 698753\n",
       "V1_LN2_Position              698753\n",
       "V2_LN2_Position              698753\n",
       "V3_GAr_Position              698753"
      ]
     },
     "execution_count": 4,
     "metadata": {},
     "output_type": "execute_result"
    }
   ],
   "source": [
    "PLC_dev_gr.size().to_frame().rename(columns={0:'Series size'})"
   ]
  },
  {
   "cell_type": "code",
   "execution_count": 5,
   "id": "3d53db04-efc2-4d2f-a280-8ec43847e7bc",
   "metadata": {},
   "outputs": [],
   "source": [
    "devs_dfs = {}\n",
    "for name, gr in PLC_dev_gr:\n",
    "    devs_dfs[name] = gr[['value']].copy()\n",
    "    devs_dfs[name].reset_index(inplace=True)"
   ]
  },
  {
   "cell_type": "code",
   "execution_count": 8,
   "id": "56c042a6-f653-41ba-bd6a-36eeccce1a64",
   "metadata": {},
   "outputs": [
    {
     "data": {
      "text/plain": [
       "['DPM1',\n",
       " 'FT1_Flow',\n",
       " 'GFM1_gN2',\n",
       " 'GFM2_gAr',\n",
       " 'GFM3_gH2',\n",
       " 'LAr_Level',\n",
       " 'LN2_Level',\n",
       " 'LN2_Level_SP',\n",
       " 'PT1_LDetek_Carrier',\n",
       " 'PT2_LDetek_Sample',\n",
       " 'PT3_LDetek_O2Doping',\n",
       " 'PT4_Atm',\n",
       " 'PT4_Atm_Corr',\n",
       " 'PT5_LAr_Cryo',\n",
       " 'PT5_LAr_Cryo_Corr',\n",
       " 'PT6_PumpOut',\n",
       " 'PT6_PumpOut_Corr',\n",
       " 'PT6_PumpOut_Gauge',\n",
       " 'PT7_N2_Cryo',\n",
       " 'PT7_N2_Cryo_Corr',\n",
       " 'PT7_N2_Cryo_SP',\n",
       " 'PT8_LAr_FilterOut',\n",
       " 'PT8_LAr_FilterOut_Corr',\n",
       " 'P_LAr_Cryo',\n",
       " 'P_LAr_CryoPC3_SP',\n",
       " 'P_LAr_Cryo_SP',\n",
       " 'P_LAr_FilterOut_Gauge',\n",
       " 'Pump_MON',\n",
       " 'Pump_SP',\n",
       " 'TT1_LAr_Filter_Corr',\n",
       " 'TT2_LAr_Filter_Corr',\n",
       " 'TT3_LAr_Filter_Corr',\n",
       " 'TT4_LAr_Filter_Corr',\n",
       " 'TT5_LN2_Cryo',\n",
       " 'TT5_LN2_Cryo_SP',\n",
       " 'TT6_LN2_Cryo',\n",
       " 'V1_LN2_Position',\n",
       " 'V2_LN2_Position',\n",
       " 'V3_GAr_Position']"
      ]
     },
     "execution_count": 8,
     "metadata": {},
     "output_type": "execute_result"
    }
   ],
   "source": [
    "list(devs_dfs.keys())"
   ]
  },
  {
   "cell_type": "code",
   "execution_count": 19,
   "id": "2b30b04f-12e1-4637-8196-00f7c3f1c95a",
   "metadata": {},
   "outputs": [
    {
     "data": {
      "image/png": "[encoded data removed]",
      "text/plain": [
       "<Figure size 432x288 with 1 Axes>"
      ]
     },
     "metadata": {
      "needs_background": "light"
     },
     "output_type": "display_data"
    }
   ],
   "source": [
    "dt_ser = (devs_dfs['Pump_MON']['UTC'].astype(int)-devs_dfs['FT1_Flow']['UTC'].astype(int))/10**9\n",
    "dt_ser.plot.hist(bins=500)\n",
    "\n",
    "plt.yscale('log')"
   ]
  },
  {
   "cell_type": "code",
   "execution_count": 22,
   "id": "4a056290-b76a-47da-a563-3777b9387418",
   "metadata": {},
   "outputs": [
    {
     "data": {
      "text/html": [
       "<div>\n",
       "<style scoped>\n",
       "    .dataframe tbody tr th:only-of-type {\n",
       "        vertical-align: middle;\n",
       "    }\n",
       "\n",
       "    .dataframe tbody tr th {\n",
       "        vertical-align: top;\n",
       "    }\n",
       "\n",
       "    .dataframe thead th {\n",
       "        text-align: right;\n",
       "    }\n",
       "</style>\n",
       "<table border=\"1\" class=\"dataframe\">\n",
       "  <thead>\n",
       "    <tr style=\"text-align: right;\">\n",
       "      <th></th>\n",
       "      <th>FT1_Flow</th>\n",
       "      <th>PT6_PumpOut</th>\n",
       "      <th>PT8_LAr_FilterOut</th>\n",
       "      <th>Pump_MON</th>\n",
       "    </tr>\n",
       "  </thead>\n",
       "  <tbody>\n",
       "    <tr>\n",
       "      <th>0</th>\n",
       "      <td>-0.133335</td>\n",
       "      <td>0.965758</td>\n",
       "      <td>2.805719</td>\n",
       "      <td>0.000000</td>\n",
       "    </tr>\n",
       "    <tr>\n",
       "      <th>1</th>\n",
       "      <td>-0.682668</td>\n",
       "      <td>0.965911</td>\n",
       "      <td>2.805719</td>\n",
       "      <td>0.000000</td>\n",
       "    </tr>\n",
       "    <tr>\n",
       "      <th>2</th>\n",
       "      <td>-0.133335</td>\n",
       "      <td>0.965911</td>\n",
       "      <td>2.805719</td>\n",
       "      <td>0.000000</td>\n",
       "    </tr>\n",
       "    <tr>\n",
       "      <th>3</th>\n",
       "      <td>-0.682668</td>\n",
       "      <td>0.965453</td>\n",
       "      <td>2.805719</td>\n",
       "      <td>0.000000</td>\n",
       "    </tr>\n",
       "    <tr>\n",
       "      <th>4</th>\n",
       "      <td>-0.957335</td>\n",
       "      <td>0.965911</td>\n",
       "      <td>2.805719</td>\n",
       "      <td>0.000000</td>\n",
       "    </tr>\n",
       "    <tr>\n",
       "      <th>...</th>\n",
       "      <td>...</td>\n",
       "      <td>...</td>\n",
       "      <td>...</td>\n",
       "      <td>...</td>\n",
       "    </tr>\n",
       "    <tr>\n",
       "      <th>698748</th>\n",
       "      <td>-7.000000</td>\n",
       "      <td>1.684927</td>\n",
       "      <td>1.324534</td>\n",
       "      <td>54.658649</td>\n",
       "    </tr>\n",
       "    <tr>\n",
       "      <th>698749</th>\n",
       "      <td>-7.000000</td>\n",
       "      <td>1.685537</td>\n",
       "      <td>1.326457</td>\n",
       "      <td>54.664753</td>\n",
       "    </tr>\n",
       "    <tr>\n",
       "      <th>698750</th>\n",
       "      <td>-7.000000</td>\n",
       "      <td>1.678823</td>\n",
       "      <td>1.332041</td>\n",
       "      <td>54.646442</td>\n",
       "    </tr>\n",
       "    <tr>\n",
       "      <th>698751</th>\n",
       "      <td>-7.000000</td>\n",
       "      <td>1.686148</td>\n",
       "      <td>1.323435</td>\n",
       "      <td>54.655598</td>\n",
       "    </tr>\n",
       "    <tr>\n",
       "      <th>698752</th>\n",
       "      <td>-7.000000</td>\n",
       "      <td>1.680960</td>\n",
       "      <td>1.324534</td>\n",
       "      <td>54.631180</td>\n",
       "    </tr>\n",
       "  </tbody>\n",
       "</table>\n",
       "<p>698753 rows × 4 columns</p>\n",
       "</div>"
      ],
      "text/plain": [
       "        FT1_Flow  PT6_PumpOut  PT8_LAr_FilterOut   Pump_MON\n",
       "0      -0.133335     0.965758           2.805719   0.000000\n",
       "1      -0.682668     0.965911           2.805719   0.000000\n",
       "2      -0.133335     0.965911           2.805719   0.000000\n",
       "3      -0.682668     0.965453           2.805719   0.000000\n",
       "4      -0.957335     0.965911           2.805719   0.000000\n",
       "...          ...          ...                ...        ...\n",
       "698748 -7.000000     1.684927           1.324534  54.658649\n",
       "698749 -7.000000     1.685537           1.326457  54.664753\n",
       "698750 -7.000000     1.678823           1.332041  54.646442\n",
       "698751 -7.000000     1.686148           1.323435  54.655598\n",
       "698752 -7.000000     1.680960           1.324534  54.631180\n",
       "\n",
       "[698753 rows x 4 columns]"
      ]
     },
     "execution_count": 22,
     "metadata": {},
     "output_type": "execute_result"
    }
   ],
   "source": [
    "devs = ['FT1_Flow','PT6_PumpOut','PT8_LAr_FilterOut','Pump_MON']\n",
    "corrs_df = dict()\n",
    "for dev in devs:\n",
    "    corrs_df[dev] = devs_dfs[dev]['value'].to_numpy()\n",
    "corrs_df = pd.DataFrame(corrs_df)\n",
    "corrs_df"
   ]
  },
  {
   "cell_type": "code",
   "execution_count": null,
   "id": "7d7f9e5b-0c61-4617-a4af-a6ea6f12cbe0",
   "metadata": {},
   "outputs": [],
   "source": []
  },
  {
   "cell_type": "code",
   "execution_count": null,
   "id": "b36295d0-0496-4f96-8a47-ef52cc307baa",
   "metadata": {},
   "outputs": [],
   "source": [
    "sns.pairplot(corrs_df);\n",
    "#sns.pairplot(corrs_df, x_vars = list(whr_df)[3:-1], y_vars=['Happiness Score'],height=3);"
   ]
  },
  {
   "cell_type": "code",
   "execution_count": 66,
   "id": "33583747-dfba-4838-b200-c1476610d6fb",
   "metadata": {},
   "outputs": [
    {
     "data": {
      "text/html": [
       "<div>\n",
       "<style scoped>\n",
       "    .dataframe tbody tr th:only-of-type {\n",
       "        vertical-align: middle;\n",
       "    }\n",
       "\n",
       "    .dataframe tbody tr th {\n",
       "        vertical-align: top;\n",
       "    }\n",
       "\n",
       "    .dataframe thead th {\n",
       "        text-align: right;\n",
       "    }\n",
       "</style>\n",
       "<table border=\"1\" class=\"dataframe\">\n",
       "  <thead>\n",
       "    <tr style=\"text-align: right;\">\n",
       "      <th></th>\n",
       "      <th>value</th>\n",
       "    </tr>\n",
       "  </thead>\n",
       "  <tbody>\n",
       "    <tr>\n",
       "      <th>count</th>\n",
       "      <td>698753.0</td>\n",
       "    </tr>\n",
       "    <tr>\n",
       "      <th>mean</th>\n",
       "      <td>0.0</td>\n",
       "    </tr>\n",
       "    <tr>\n",
       "      <th>std</th>\n",
       "      <td>0.0</td>\n",
       "    </tr>\n",
       "    <tr>\n",
       "      <th>min</th>\n",
       "      <td>0.0</td>\n",
       "    </tr>\n",
       "    <tr>\n",
       "      <th>25%</th>\n",
       "      <td>0.0</td>\n",
       "    </tr>\n",
       "    <tr>\n",
       "      <th>50%</th>\n",
       "      <td>0.0</td>\n",
       "    </tr>\n",
       "    <tr>\n",
       "      <th>75%</th>\n",
       "      <td>0.0</td>\n",
       "    </tr>\n",
       "    <tr>\n",
       "      <th>max</th>\n",
       "      <td>0.0</td>\n",
       "    </tr>\n",
       "  </tbody>\n",
       "</table>\n",
       "</div>"
      ],
      "text/plain": [
       "          value\n",
       "count  698753.0\n",
       "mean        0.0\n",
       "std         0.0\n",
       "min         0.0\n",
       "25%         0.0\n",
       "50%         0.0\n",
       "75%         0.0\n",
       "max         0.0"
      ]
     },
     "execution_count": 66,
     "metadata": {},
     "output_type": "execute_result"
    }
   ],
   "source": [
    "DP8_ser = PT8_df['value'] - PT8_Corr_df['value']\n",
    "DP8_ser.to_frame().describe()"
   ]
  },
  {
   "cell_type": "code",
   "execution_count": 58,
   "id": "3f1a7507-95a7-4b86-93fc-6620a25cfe88",
   "metadata": {},
   "outputs": [
    {
     "data": {
      "text/plain": [
       "0              0.000000\n",
       "1              1.317311\n",
       "2              2.634509\n",
       "3              3.987279\n",
       "4              5.311807\n",
       "              ...      \n",
       "698748    928792.565291\n",
       "698749    928793.905420\n",
       "698750    928795.253146\n",
       "698751    928796.579396\n",
       "698752    928797.931029\n",
       "Name: UTC, Length: 698753, dtype: float64"
      ]
     },
     "execution_count": 58,
     "metadata": {},
     "output_type": "execute_result"
    }
   ],
   "source": [
    "(PT6_df['UTC'] - PT6_df['UTC'][0]).astype(int)/10**9"
   ]
  },
  {
   "cell_type": "code",
   "execution_count": 13,
   "id": "c5569c97-e258-4354-8811-6538138a63ef",
   "metadata": {},
   "outputs": [
    {
     "data": {
      "text/plain": [
       "<AxesSubplot:ylabel='Frequency'>"
      ]
     },
     "execution_count": 13,
     "metadata": {},
     "output_type": "execute_result"
    },
    {
     "data": {
      "image/png": "[encoded data removed]",
      "text/plain": [
       "<Figure size 432x288 with 1 Axes>"
      ]
     },
     "metadata": {
      "needs_background": "light"
     },
     "output_type": "display_data"
    }
   ],
   "source": [
    "FT1_Flow_df.plot.hist(by='value',bins=100)"
   ]
  },
  {
   "cell_type": "code",
   "execution_count": 21,
   "id": "d8fee643-97f2-4e6e-9fa0-5bfa2524ded3",
   "metadata": {},
   "outputs": [
    {
     "data": {
      "text/plain": [
       "<AxesSubplot:xlabel='UTC'>"
      ]
     },
     "execution_count": 21,
     "metadata": {},
     "output_type": "execute_result"
    },
    {
     "data": {
      "image/png": "[encoded data removed]",
      "text/plain": [
       "<Figure size 432x288 with 1 Axes>"
      ]
     },
     "metadata": {
      "needs_background": "light"
     },
     "output_type": "display_data"
    }
   ],
   "source": [
    "axs = FT1_Flow_df.plot.line(y='value')\n",
    "\n",
    "#plt.yscale('log')"
   ]
  },
  {
   "cell_type": "code",
   "execution_count": 30,
   "id": "ceeb9bf7-c68b-4855-ada4-e2b8eef24b2c",
   "metadata": {},
   "outputs": [
    {
     "data": {
      "text/plain": [
       "<AxesSubplot:xlabel='UTC'>"
      ]
     },
     "execution_count": 30,
     "metadata": {},
     "output_type": "execute_result"
    },
    {
     "data": {
      "image/png": "[encoded data removed]",
      "text/plain": [
       "<Figure size 792x360 with 1 Axes>"
      ]
     },
     "metadata": {
      "needs_background": "light"
     },
     "output_type": "display_data"
    }
   ],
   "source": [
    "axs = PT6_df.plot.line(y='value', label='Pump out press', figsize=(11,5))\n",
    "PT6_Corr_df.plot.line(y='value', label='Pump out press (corr)', ax=axs)\n",
    "#PT8_df.plot.line(y='value', label='Filter in press', ax=axs)"
   ]
  },
  {
   "cell_type": "code",
   "execution_count": 35,
   "id": "4c50662d-fabd-46c0-9bc4-1947302712ef",
   "metadata": {},
   "outputs": [
    {
     "name": "stdout",
     "output_type": "stream",
     "text": [
      "<class 'pandas.core.frame.DataFrame'>\n",
      "DatetimeIndex: 1397506 entries, 2021-06-13 22:00:00.786912+00:00 to 2021-06-24 15:59:58.725013+00:00\n",
      "Data columns (total 1 columns):\n",
      " #   Column  Non-Null Count  Dtype  \n",
      "---  ------  --------------  -----  \n",
      " 0   value   0 non-null      float64\n",
      "dtypes: float64(1)\n",
      "memory usage: 21.3 MB\n"
     ]
    }
   ],
   "source": [
    "PT6_Delta = PT6_df['value'] - PT6_Corr_df['value']\n",
    "PT6_Delta.to_frame().info()"
   ]
  },
  {
   "cell_type": "code",
   "execution_count": null,
   "id": "f662c5e5-073f-472a-bb4b-eb234c8fd2f8",
   "metadata": {},
   "outputs": [],
   "source": []
  }
 ],
 "metadata": {
  "kernelspec": {
   "display_name": "Python 3",
   "language": "python",
   "name": "python3"
  },
  "language_info": {
   "codemirror_mode": {
    "name": "ipython",
    "version": 3
   },
   "file_extension": ".py",
   "mimetype": "text/x-python",
   "name": "python",
   "nbconvert_exporter": "python",
   "pygments_lexer": "ipython3",
   "version": "3.8.10"
  }
 },
 "nbformat": 4,
 "nbformat_minor": 5
}
