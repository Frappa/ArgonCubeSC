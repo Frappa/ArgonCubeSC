{
 "cells": [
  {
   "cell_type": "code",
   "execution_count": 1,
   "id": "2c36b9ff-1585-4c1b-8873-0f304af0f29f",
   "metadata": {},
   "outputs": [],
   "source": [
    "import numpy as np\n",
    "import pandas as pd\n",
    "import matplotlib.pyplot as plt\n",
    "\n",
    "import time\n",
    "import datetime\n",
    "import pytz\n",
    "import tzlocal\n",
    "import h5py\n",
    "from influxdb import InfluxDBClient, DataFrameClient\n",
    "import datetime\n",
    "\n",
    "from Sc2Hdf import Create_hdf, Update_hdf"
   ]
  },
  {
   "cell_type": "code",
   "execution_count": 2,
   "id": "75c2dcc0-96a5-478b-aa01-d5793d1134f1",
   "metadata": {},
   "outputs": [
    {
     "name": "stdout",
     "output_type": "stream",
     "text": [
      "total 2.4G\n",
      "drwxr-xr-x 3 fpiastra fpiastra 4.0K Jun 29 10:41 Oscilloscope\n",
      "drwxr-xr-x 2 fpiastra fpiastra 4.0K Jun 29 14:26 __pycache__\n",
      "-rw-r--r-- 1 fpiastra fpiastra 1.2G Jun 24 19:36 SC_data.h5\n",
      "-rw-r--r-- 1 fpiastra fpiastra 1.2G Jun 29 12:14 SC_data_test.h5\n",
      "-rw-r--r-- 1 fpiastra fpiastra  12K Jun 29 14:25 SC_to_hdf5.ipynb\n",
      "-rw-r--r-- 1 fpiastra fpiastra  12K Jun 29 14:26 SC_to_hdf.py\n"
     ]
    }
   ],
   "source": [
    "db_name = 'singlemodule_nov2020'\n",
    "host = 'argoncube02.aec.unibe.ch'\n",
    "port = 8086\n",
    "time_delta='1h'\n",
    "start_time = pd.Timestamp(\"2021-06-14\") #This is used only with the Create_hdf function and must be instanced by the user\n",
    "end_time = None # This is to stop the request of the time series to a specific date otherwise it will stop to the present\n",
    "outfilename = 'SC_data.h5'\n",
    "filename = 'SC_data_test.h5'\n",
    "\n",
    "#The list of measurements to be saved or updated\n",
    "#If measurements is None the Create_hdf function will save all the measurements time series that are found in the database, while the Update_hdf function updates only those that are already present in the file to be updated\n",
    "measurements = None\n",
    "#measurements = [\"PLC\",\"LAr_Level\",\"LAr_Level_pF\",\"LN2_Level\",\"LN2_Level_pF\",\"temp\",\"flow\"]"
   ]
  },
  {
   "cell_type": "code",
   "execution_count": null,
   "id": "6bebb3e9-ffd8-4d0e-a05f-2e170c6b2be4",
   "metadata": {},
   "outputs": [],
   "source": [
    "def Create_hdf(host=host, db_name=db_name, start_time=start_time, outfilename=filename, measurements=measurements, port=port, time_delta=time_delta, end_time=end_time)"
   ]
  },
  {
   "cell_type": "code",
   "execution_count": 3,
   "id": "0b60cf7d-a574-4b5f-8acd-c9d87adaae4d",
   "metadata": {},
   "outputs": [
    {
     "name": "stdout",
     "output_type": "stream",
     "text": [
      "Updating time series for the measurement \"LAr_Level\":\n",
      "\t last UTC time:  2021-06-24 14:59:57.147387+00:00  --> local time:  2021-06-24 16:59:57.147387+02:00\n",
      "Updating time series for the measurement \"LAr_Level_pF\":\n",
      "\t last UTC time:  2021-06-24 14:59:57.097788+00:00  --> local time:  2021-06-24 16:59:57.097788+02:00\n",
      "Updating time series for the measurement \"LN2_Level\":\n",
      "\t last UTC time:  2021-06-24 14:59:57.191296+00:00  --> local time:  2021-06-24 16:59:57.191296+02:00\n",
      "Updating time series for the measurement \"LN2_Level_pF\":\n",
      "\t last UTC time:  2021-06-24 14:59:57.138375+00:00  --> local time:  2021-06-24 16:59:57.138375+02:00\n",
      "Updating time series for the measurement \"PLC\":\n",
      "\t last UTC time:  2021-06-24 14:59:59.996451+00:00  --> local time:  2021-06-24 16:59:59.996451+02:00\n",
      "Updating time series for the measurement \"flow\":\n",
      "\t last UTC time:  2021-06-24 14:59:58.893929+00:00  --> local time:  2021-06-24 16:59:58.893929+02:00\n",
      "Updating time series for the measurement \"temp\":\n",
      "\t last UTC time:  2021-06-24 14:59:59.989622+00:00  --> local time:  2021-06-24 16:59:59.989622+02:00\n"
     ]
    }
   ],
   "source": [
    "Update_hdf(host=host, db_name=db_name, filename=filename, measurements=None, port=port, time_delta='1h')\n"
   ]
  },
  {
   "cell_type": "code",
   "execution_count": 6,
   "id": "da252b7d-c4d3-4d6a-bd6b-500ce6af710c",
   "metadata": {},
   "outputs": [
    {
     "name": "stdout",
     "output_type": "stream",
     "text": [
      "total 3.0G\n",
      "drwxr-xr-x 3 fpiastra fpiastra 4.0K Jun 29 10:41 Oscilloscope\n",
      "drwxr-xr-x 2 fpiastra fpiastra 4.0K Jun 29 14:26 __pycache__\n",
      "-rw-r--r-- 1 fpiastra fpiastra  14K Jun 29 14:48 Sc2Hdf.ipynb\n",
      "-rw-r--r-- 1 fpiastra fpiastra  12K Jun 29 14:26 Sc2Hdf.py\n",
      "-rw-r--r-- 1 fpiastra fpiastra 1.2G Jun 24 19:36 SC_data.h5\n",
      "-rw-r--r-- 1 fpiastra fpiastra 1.8G Jun 29 14:32 SC_data_test.h5\n"
     ]
    }
   ],
   "source": [
    "!ls -lh"
   ]
  },
  {
   "cell_type": "markdown",
   "id": "961a3246-af2d-42b3-926e-4fc2a4b7fc00",
   "metadata": {},
   "source": [
    "**The following cells are for testing specific commands for debugging the two functions**"
   ]
  },
  {
   "cell_type": "code",
   "execution_count": null,
   "id": "5e4b6b83-4de8-4387-9398-d620c4d1e2fa",
   "metadata": {},
   "outputs": [],
   "source": [
    "db_name = 'singlemodule_nov2020'\n",
    "\n",
    "#client = InfluxDBClient(host='argoncube02.aec.unibe.ch', port=8086, database=db_name)\n",
    "\n",
    "#This client is better to read data into pandas dataframe\n",
    "client = DataFrameClient(host='argoncube02.aec.unibe.ch', port=8086, database=db_name)"
   ]
  },
  {
   "cell_type": "code",
   "execution_count": null,
   "id": "263c0abe-aa91-4a6f-aa22-cb55caa5989b",
   "metadata": {},
   "outputs": [],
   "source": [
    "client.close()"
   ]
  },
  {
   "cell_type": "code",
   "execution_count": null,
   "id": "747c73a7-ff95-4a79-834b-c1371f5f0d1b",
   "metadata": {},
   "outputs": [],
   "source": [
    "client.get_list_database()"
   ]
  },
  {
   "cell_type": "code",
   "execution_count": null,
   "id": "2c386bf0-3256-4b2f-872e-33862fe7ffa3",
   "metadata": {},
   "outputs": [],
   "source": [
    "client.get_list_series()"
   ]
  },
  {
   "cell_type": "code",
   "execution_count": 13,
   "id": "8d092b5c-1a44-46b5-ab63-a98f9a7c6c88",
   "metadata": {},
   "outputs": [
    {
     "data": {
      "text/plain": [
       "Timestamp('2021-06-13 22:00:00+0000', tz='UTC')"
      ]
     },
     "execution_count": 13,
     "metadata": {},
     "output_type": "execute_result"
    }
   ],
   "source": [
    "here_tz = tzlocal.get_localzone()\n",
    "here_tz.localize(pd.to_datetime(pd.Timestamp('2021-06-14')), is_dst=True).astimezone(pytz.timezone('UTC'))"
   ]
  },
  {
   "cell_type": "code",
   "execution_count": 6,
   "id": "b52a48a2-8be1-44a3-ba29-15263ba253d5",
   "metadata": {},
   "outputs": [
    {
     "ename": "AttributeError",
     "evalue": "'Timestamp' object has no attribute 'to_datetime'",
     "output_type": "error",
     "traceback": [
      "\u001b[0;31m---------------------------------------------------------------------------\u001b[0m",
      "\u001b[0;31mAttributeError\u001b[0m                            Traceback (most recent call last)",
      "\u001b[0;32m<ipython-input-6-05cbde414c36>\u001b[0m in \u001b[0;36m<module>\u001b[0;34m\u001b[0m\n\u001b[0;32m----> 1\u001b[0;31m \u001b[0mst_pd\u001b[0m\u001b[0;34m.\u001b[0m\u001b[0mto_datetime\u001b[0m\u001b[0;34m(\u001b[0m\u001b[0;34m)\u001b[0m\u001b[0;34m\u001b[0m\u001b[0;34m\u001b[0m\u001b[0m\n\u001b[0m",
      "\u001b[0;31mAttributeError\u001b[0m: 'Timestamp' object has no attribute 'to_datetime'"
     ]
    }
   ],
   "source": []
  },
  {
   "cell_type": "code",
   "execution_count": null,
   "id": "7169c313-26b5-4500-8304-786cb121c376",
   "metadata": {},
   "outputs": [],
   "source": []
  }
 ],
 "metadata": {
  "kernelspec": {
   "display_name": "Python 3",
   "language": "python",
   "name": "python3"
  },
  "language_info": {
   "codemirror_mode": {
    "name": "ipython",
    "version": 3
   },
   "file_extension": ".py",
   "mimetype": "text/x-python",
   "name": "python",
   "nbconvert_exporter": "python",
   "pygments_lexer": "ipython3",
   "version": "3.8.10"
  }
 },
 "nbformat": 4,
 "nbformat_minor": 5
}
